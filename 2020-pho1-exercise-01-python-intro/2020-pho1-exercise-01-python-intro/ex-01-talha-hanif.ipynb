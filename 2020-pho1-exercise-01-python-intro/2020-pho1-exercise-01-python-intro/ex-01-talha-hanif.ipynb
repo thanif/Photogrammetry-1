{
 "cells": [
  {
   "cell_type": "markdown",
   "metadata": {},
   "source": [
    "# Exercise in Photogrammetry I\n",
    "## **Ex.1 : Essential Python Programming**\n",
    "### Hand out: xx.xx.xxxx\n",
    "### Submission: xx.xx.xxxx\n",
    "### Points: 23"
   ]
  },
  {
   "cell_type": "markdown",
   "metadata": {},
   "source": [
    "## A. Python Varialbes\n",
    "\n",
    "A variable is a container for a value, which can be of various types, e.g., int, float and str."
   ]
  },
  {
   "cell_type": "markdown",
   "metadata": {},
   "source": [
    "## A1 \n",
    "\n",
    "**Task**: Define two variables $x$ and $y$ and compute their divsion and sum. Let $x$ be equal to 10 and $y=3$. **Print out** the **type** of $x$, $y$, $\\frac{x}{y}$ and $x+y$ as well as the **result** of their divsion and sum. (2 Points)"
   ]
  },
  {
   "cell_type": "code",
   "execution_count": 20,
   "metadata": {},
   "outputs": [],
   "source": [
    "# Define the variables in this cell\n",
    "x = 10\n",
    "y = 3"
   ]
  },
  {
   "cell_type": "code",
   "execution_count": 21,
   "metadata": {},
   "outputs": [],
   "source": [
    "# Compute the divsion of both variables\n",
    "div = x/y"
   ]
  },
  {
   "cell_type": "code",
   "execution_count": 22,
   "metadata": {},
   "outputs": [],
   "source": [
    "# Compute the sum of both variables\n",
    "sum = x + y"
   ]
  },
  {
   "cell_type": "code",
   "execution_count": 23,
   "metadata": {},
   "outputs": [
    {
     "data": {
      "text/plain": [
       "(int, int, float, int)"
      ]
     },
     "execution_count": 23,
     "metadata": {},
     "output_type": "execute_result"
    }
   ],
   "source": [
    "# Print out the data types in this cell\n",
    "type(x), type(y), type(div), type(sum)"
   ]
  },
  {
   "cell_type": "code",
   "execution_count": 24,
   "metadata": {},
   "outputs": [
    {
     "name": "stdout",
     "output_type": "stream",
     "text": [
      "3.3333333333333335 13\n"
     ]
    }
   ],
   "source": [
    "# Print out the result of the divison and sum in this cell\n",
    "print (div, sum)"
   ]
  },
  {
   "cell_type": "markdown",
   "metadata": {},
   "source": [
    "## B. Python Lists, Tuples and Dictionaries\n",
    "\n",
    "A List is a collection which is *ordered* and *changeable*. It allows for *duplicate members*.\n",
    "\n",
    "A Tuple is a collection which is *ordered* and *unchangeable*. It allows for *duplicate members*.\n",
    "\n",
    "A Dictionary is a collection which is *unordered*, *changeable* and *indexed*. *No duplicate* keys allowed"
   ]
  },
  {
   "cell_type": "markdown",
   "metadata": {},
   "source": [
    "### B1\n",
    "\n",
    "**Task**: Create a list which contains the values 1 to 9. **Print out** the **length** of the list and compute the **sum** of the first and last entry by using *indexing*. (3 Points)"
   ]
  },
  {
   "cell_type": "code",
   "execution_count": 25,
   "metadata": {},
   "outputs": [],
   "source": [
    "# Create your list here\n",
    "l = [1,2,3,4,5,6,7,8,9]"
   ]
  },
  {
   "cell_type": "code",
   "execution_count": 26,
   "metadata": {},
   "outputs": [],
   "source": [
    "# Compute the length of the list\n",
    "length = len(l)"
   ]
  },
  {
   "cell_type": "code",
   "execution_count": 27,
   "metadata": {},
   "outputs": [],
   "source": [
    "# Compute the sum of the first and last entry by using indexing.\n",
    "s = l[0] + l[-1]"
   ]
  },
  {
   "cell_type": "code",
   "execution_count": 28,
   "metadata": {},
   "outputs": [
    {
     "data": {
      "text/plain": [
       "9"
      ]
     },
     "execution_count": 28,
     "metadata": {},
     "output_type": "execute_result"
    }
   ],
   "source": [
    "# Print out the length of the list this cell\n",
    "length"
   ]
  },
  {
   "cell_type": "code",
   "execution_count": 29,
   "metadata": {},
   "outputs": [
    {
     "data": {
      "text/plain": [
       "10"
      ]
     },
     "execution_count": 29,
     "metadata": {},
     "output_type": "execute_result"
    }
   ],
   "source": [
    "# Print out the sum of first and last entry in this cell\n",
    "s"
   ]
  },
  {
   "cell_type": "markdown",
   "metadata": {},
   "source": [
    "**Task**: Set the first entry of this list to 100 and append the value of 99 to the list. Again **print out** the **length** of this the and compute the **sum** of the first and last entry by using *indexing*. (2 Points)"
   ]
  },
  {
   "cell_type": "code",
   "execution_count": 30,
   "metadata": {},
   "outputs": [],
   "source": [
    "# Modify the elements of your list in this cell\n",
    "l[0] = 100\n",
    "l.append(99)"
   ]
  },
  {
   "cell_type": "code",
   "execution_count": 31,
   "metadata": {},
   "outputs": [],
   "source": [
    "# Compute the length of the list\n",
    "length = len(l)"
   ]
  },
  {
   "cell_type": "code",
   "execution_count": 32,
   "metadata": {},
   "outputs": [],
   "source": [
    "# # Compute the sum of the first and last entry by using indexing.\n",
    "s = l[0] + l[-1]"
   ]
  },
  {
   "cell_type": "code",
   "execution_count": 33,
   "metadata": {},
   "outputs": [
    {
     "data": {
      "text/plain": [
       "10"
      ]
     },
     "execution_count": 33,
     "metadata": {},
     "output_type": "execute_result"
    }
   ],
   "source": [
    "# Print out the length of the list this cell\n",
    "length"
   ]
  },
  {
   "cell_type": "code",
   "execution_count": 34,
   "metadata": {},
   "outputs": [
    {
     "data": {
      "text/plain": [
       "199"
      ]
     },
     "execution_count": 34,
     "metadata": {},
     "output_type": "execute_result"
    }
   ],
   "source": [
    "# Print out the sum of first and last entry in this cell\n",
    "s"
   ]
  },
  {
   "cell_type": "markdown",
   "metadata": {},
   "source": [
    "### B2\n",
    "\n",
    "**Task**: Create a tuple which contains the same values as the previously defined list. Try to change the second element of this tuple to 77 and run the script <br /> (*Cell* > *Run All*). Describe which error occurs and why. Make sure to comment this line of code afterwards otherwise cells below will not be executed! \n",
    "(2 Points)"
   ]
  },
  {
   "cell_type": "code",
   "execution_count": 35,
   "metadata": {},
   "outputs": [],
   "source": [
    "# Create the tuple in this cell\n",
    "t = tuple(l)"
   ]
  },
  {
   "cell_type": "code",
   "execution_count": 36,
   "metadata": {},
   "outputs": [
    {
     "ename": "TypeError",
     "evalue": "'tuple' object does not support item assignment",
     "output_type": "error",
     "traceback": [
      "\u001b[1;31m---------------------------------------------------------------------------\u001b[0m",
      "\u001b[1;31mTypeError\u001b[0m                                 Traceback (most recent call last)",
      "Cell \u001b[1;32mIn[36], line 3\u001b[0m\n\u001b[0;32m      1\u001b[0m \u001b[38;5;66;03m# Try to change the 2nd element of this tuple\u001b[39;00m\n\u001b[1;32m----> 3\u001b[0m t[\u001b[38;5;241m1\u001b[39m] \u001b[38;5;241m=\u001b[39m \u001b[38;5;241m77\u001b[39m\n",
      "\u001b[1;31mTypeError\u001b[0m: 'tuple' object does not support item assignment"
     ]
    }
   ],
   "source": [
    "# Try to change the 2nd element of this tuple\n",
    "\n",
    "# t[1] = 77\n",
    "\n",
    "# First execute the code (Cell > Run All) and inspect the error.\n",
    "# Afterwards make sure to comment all code within in this cell - otherwise cells below will not be executed!"
   ]
  },
  {
   "cell_type": "markdown",
   "metadata": {},
   "source": [
    "Write your **answer** about which error occurs and why **here**:\n",
    "\n",
    "The error states that tuple object does not support item assignment.\n",
    "The error occurred because a tuple is unchangeable."
   ]
  },
  {
   "cell_type": "markdown",
   "metadata": {},
   "source": [
    "### B3\n",
    "\n",
    "**Task**: Create a dictionary which contains the following key-value pairs: *City* - *Bonn*, *Street* - *Nussallee*, *HouseNumber* - 15.<br /> Get the value of *HouseNumber* and **print it out**. (3 Points)"
   ]
  },
  {
   "cell_type": "code",
   "execution_count": 39,
   "metadata": {},
   "outputs": [],
   "source": [
    "# Create the dictionary here\n",
    "d = {}\n",
    "d['City'] = 'Bonn'\n",
    "d['Street'] = 'Nussallee'\n",
    "d['HouseNumber'] = 15"
   ]
  },
  {
   "cell_type": "code",
   "execution_count": 40,
   "metadata": {},
   "outputs": [
    {
     "data": {
      "text/plain": [
       "15"
      ]
     },
     "execution_count": 40,
     "metadata": {},
     "output_type": "execute_result"
    }
   ],
   "source": [
    "# Get the value of 'HouseNumber' and print it in this cell\n",
    "d['HouseNumber']"
   ]
  },
  {
   "cell_type": "markdown",
   "metadata": {},
   "source": [
    "**Task**: Add the key-value pair *LectureRoom* : *14* to this dictionary. Finally **print out** all **keys** and **values** of this dictionary. (2 Points)"
   ]
  },
  {
   "cell_type": "code",
   "execution_count": 41,
   "metadata": {},
   "outputs": [],
   "source": [
    "# Add key-value pair\n",
    "d['LectureRoom'] = 14"
   ]
  },
  {
   "cell_type": "code",
   "execution_count": 42,
   "metadata": {},
   "outputs": [
    {
     "data": {
      "text/plain": [
       "dict_keys(['City', 'Street', 'HouseNumber', 'LectureRoom'])"
      ]
     },
     "execution_count": 42,
     "metadata": {},
     "output_type": "execute_result"
    }
   ],
   "source": [
    "# Print out all keys of the dict\n",
    "d.keys()"
   ]
  },
  {
   "cell_type": "code",
   "execution_count": 43,
   "metadata": {},
   "outputs": [
    {
     "data": {
      "text/plain": [
       "dict_values(['Bonn', 'Nussallee', 15, 14])"
      ]
     },
     "execution_count": 43,
     "metadata": {},
     "output_type": "execute_result"
    }
   ],
   "source": [
    "# Print out all values of the dict\n",
    "d.values()"
   ]
  },
  {
   "cell_type": "markdown",
   "metadata": {},
   "source": [
    "## C. Python Conditionals and Loops"
   ]
  },
  {
   "cell_type": "markdown",
   "metadata": {},
   "source": [
    "**Task**: You are given a list which contains multiple lists itself which we assign to the variable called *nested_list*.<br>\n",
    "**Print out** the length of *nested_list* and write a *for loop* which **prints** the **length** of each individual list within the *nested_list* (3 Points)"
   ]
  },
  {
   "cell_type": "markdown",
   "metadata": {},
   "source": [
    "**Hint**"
   ]
  },
  {
   "cell_type": "code",
   "execution_count": 44,
   "metadata": {},
   "outputs": [
    {
     "name": "stdout",
     "output_type": "stream",
     "text": [
      "0\n",
      "0\n"
     ]
    }
   ],
   "source": [
    "# Python is picky with tabs! All code you want to run within a loop or condition needs to be indented by 4 spaces.\n",
    "# In case the loop or condition in nested within another loop or condition it needs to be indented by \n",
    "# 8 spaces and so on.\n",
    "\n",
    "# Example\n",
    "for i in range(1):\n",
    "    print(i)             # -> 4 spaces before the print statement\n",
    "    for j in range(1):   # -> 4 spaces before for begins\n",
    "        print(j)         # -> 8 spaces before the print statement"
   ]
  },
  {
   "cell_type": "code",
   "execution_count": 45,
   "metadata": {},
   "outputs": [],
   "source": [
    "# You are a given a nested list\n",
    "nested_list = [[1,2,3,0],\n",
    "               [4,5,0,6, 5],\n",
    "               [7,0,9,0,10, -10]]"
   ]
  },
  {
   "cell_type": "code",
   "execution_count": 48,
   "metadata": {},
   "outputs": [
    {
     "data": {
      "text/plain": [
       "3"
      ]
     },
     "execution_count": 48,
     "metadata": {},
     "output_type": "execute_result"
    }
   ],
   "source": [
    "# Print out the length of nested_list in this cell\n",
    "len(nested_list)"
   ]
  },
  {
   "cell_type": "code",
   "execution_count": 47,
   "metadata": {},
   "outputs": [
    {
     "name": "stdout",
     "output_type": "stream",
     "text": [
      "4\n",
      "5\n",
      "6\n"
     ]
    }
   ],
   "source": [
    "# Write the code to print the length of each individual list within the nested_list in this cell by using a loop\n",
    "for l in nested_list:\n",
    "    print (len(l))"
   ]
  },
  {
   "cell_type": "markdown",
   "metadata": {},
   "source": [
    "**Task**: Sum up all entries in the nested list by using nested *for loops*. If a entry is equal to zero **print** the string *'Found zero element**. Finally **print out** the result of the **sum**. (3 Points)"
   ]
  },
  {
   "cell_type": "code",
   "execution_count": 50,
   "metadata": {},
   "outputs": [
    {
     "name": "stdout",
     "output_type": "stream",
     "text": [
      "Found zero element\n",
      "Found zero element\n",
      "Found zero element\n",
      "Found zero element\n"
     ]
    }
   ],
   "source": [
    "# Write the code to sum up all entries in nested_list in this cell\n",
    "s = 0\n",
    "for l in nested_list:\n",
    "    for v in l:\n",
    "        s += v\n",
    "        if v == 0:\n",
    "            print ('Found zero element')"
   ]
  },
  {
   "cell_type": "code",
   "execution_count": 51,
   "metadata": {},
   "outputs": [
    {
     "data": {
      "text/plain": [
       "42"
      ]
     },
     "execution_count": 51,
     "metadata": {},
     "output_type": "execute_result"
    }
   ],
   "source": [
    "# Print out the result of the sum in this cell\n",
    "s"
   ]
  },
  {
   "cell_type": "markdown",
   "metadata": {},
   "source": [
    "## D. Python Functions\n"
   ]
  },
  {
   "cell_type": "markdown",
   "metadata": {},
   "source": [
    "**Task**: Write a function called *sum_nested_list* which takes as input parameter a nested list and returns the sum of all entries (2 Points)"
   ]
  },
  {
   "cell_type": "code",
   "execution_count": 52,
   "metadata": {},
   "outputs": [],
   "source": [
    "# Define your Function in this cell\n",
    "def sum_nested_list (l):\n",
    "    s = 0\n",
    "    for sl in l:\n",
    "        for v in sl:\n",
    "            s += v\n",
    "    return s"
   ]
  },
  {
   "cell_type": "markdown",
   "metadata": {},
   "source": [
    "**Task**: Pass the given variable *another_nested_list* to your function and **print out** the **result** (1 Point)"
   ]
  },
  {
   "cell_type": "code",
   "execution_count": 53,
   "metadata": {},
   "outputs": [],
   "source": [
    "# Given variable another_nested_list \n",
    "another_nested_list = [[22, -22, 33], [-33, 44, 55], [-55, -44, 1, -2]]"
   ]
  },
  {
   "cell_type": "code",
   "execution_count": 54,
   "metadata": {},
   "outputs": [],
   "source": [
    "# Call your function here\n",
    "s = sum_nested_list(another_nested_list)"
   ]
  },
  {
   "cell_type": "code",
   "execution_count": 55,
   "metadata": {},
   "outputs": [
    {
     "data": {
      "text/plain": [
       "-1"
      ]
     },
     "execution_count": 55,
     "metadata": {},
     "output_type": "execute_result"
    }
   ],
   "source": [
    "# Print out the sum of all entries here\n",
    "s"
   ]
  },
  {
   "cell_type": "code",
   "execution_count": null,
   "metadata": {},
   "outputs": [],
   "source": []
  }
 ],
 "metadata": {
  "kernelspec": {
   "display_name": "Python 3 (ipykernel)",
   "language": "python",
   "name": "python3"
  },
  "language_info": {
   "codemirror_mode": {
    "name": "ipython",
    "version": 3
   },
   "file_extension": ".py",
   "mimetype": "text/x-python",
   "name": "python",
   "nbconvert_exporter": "python",
   "pygments_lexer": "ipython3",
   "version": "3.10.9"
  },
  "toc": {
   "base_numbering": 1,
   "nav_menu": {},
   "number_sections": true,
   "sideBar": true,
   "skip_h1_title": false,
   "title_cell": "Table of Contents",
   "title_sidebar": "Contents",
   "toc_cell": false,
   "toc_position": {},
   "toc_section_display": true,
   "toc_window_display": false
  }
 },
 "nbformat": 4,
 "nbformat_minor": 4
}
